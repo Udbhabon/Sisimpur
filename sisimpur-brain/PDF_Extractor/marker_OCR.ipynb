{
 "cells": [
  {
   "cell_type": "code",
   "execution_count": 1,
   "id": "4d92adc3",
   "metadata": {},
   "outputs": [
    {
     "name": "stderr",
     "output_type": "stream",
     "text": [
      "g:\\[CODE FILES]\\Udbhabon\\Sisimpur\\venv\\Lib\\site-packages\\tqdm\\auto.py:21: TqdmWarning: IProgress not found. Please update jupyter and ipywidgets. See https://ipywidgets.readthedocs.io/en/stable/user_install.html\n",
      "  from .autonotebook import tqdm as notebook_tqdm\n"
     ]
    }
   ],
   "source": [
    "import sys\n",
    "from marker.converters.pdf import PdfConverter\n",
    "from marker.output import text_from_rendered\n",
    "from marker.models import create_model_dict\n",
    "from marker.config.parser import ConfigParser\n",
    "from tqdm.autonotebook import tqdm as notebook_tqdm"
   ]
  },
  {
   "cell_type": "code",
   "execution_count": 2,
   "id": "25d7e687",
   "metadata": {},
   "outputs": [],
   "source": [
    "# === Placeholder Configuration ===\n",
    "# Replace the placeholder below with your actual file path.\n",
    "INPUT_PATH = \"data/1_english.jpg\"\n",
    "# Set the desired output format: \"markdown\", \"json\", or \"html\"\n",
    "OUTPUT_FORMAT = \"markdown\"\n",
    "# Set to True to boost accuracy via LLM (requires API key configuration)\n",
    "USE_LLM = False\n",
    "# ================================"
   ]
  },
  {
   "cell_type": "code",
   "execution_count": 3,
   "id": "76fafd1a",
   "metadata": {},
   "outputs": [],
   "source": [
    "def extract_with_marker(input_path: str, output_format: str = \"markdown\", use_llm: bool = False) -> str:\n",
    "    artifact_dict = create_model_dict()\n",
    "    config = {\"output_format\": output_format}\n",
    "    if use_llm:\n",
    "        config[\"use_llm\"] = True\n",
    "    config_parser = ConfigParser(config)\n",
    "\n",
    "    converter = PdfConverter(\n",
    "        config=config_parser.generate_config_dict(),\n",
    "        artifact_dict=artifact_dict,\n",
    "        processor_list=config_parser.get_processors(),\n",
    "        renderer=config_parser.get_renderer(),\n",
    "        llm_service=config_parser.get_llm_service() if use_llm else None\n",
    "    )\n",
    "    \n",
    "    rendered = converter(input_path)\n",
    "    text, _, _ = text_from_rendered(rendered)\n",
    "    return text"
   ]
  },
  {
   "cell_type": "code",
   "execution_count": 4,
   "id": "111d5497",
   "metadata": {},
   "outputs": [
    {
     "name": "stdout",
     "output_type": "stream",
     "text": [
      "Loaded layout model s3://layout/2025_02_18 on device cpu with dtype torch.float32\n",
      "Loaded texify model s3://texify/2025_02_18 on device cpu with dtype torch.float32\n",
      "Loaded recognition model s3://text_recognition/2025_02_18 on device cpu with dtype torch.float32\n",
      "Loaded table recognition model s3://table_recognition/2025_02_18 on device cpu with dtype torch.float32\n",
      "Loaded detection model s3://text_detection/2025_02_28 on device cpu with dtype torch.float32\n",
      "Loaded detection model s3://inline_math_detection/2025_02_24 on device cpu with dtype torch.float32\n"
     ]
    },
    {
     "name": "stderr",
     "output_type": "stream",
     "text": [
      "Recognizing layout: 100%|██████████| 1/1 [00:04<00:00,  4.98s/it]\n",
      "Running OCR Error Detection: 100%|██████████| 1/1 [00:00<00:00,  9.51it/s]\n",
      "Detecting bboxes: 100%|██████████| 1/1 [00:03<00:00,  3.74s/it]\n",
      "Recognizing Text: 100%|██████████| 1/1 [00:16<00:00, 16.12s/it]\n",
      "Detecting bboxes: 0it [00:00, ?it/s]\n"
     ]
    },
    {
     "name": "stdout",
     "output_type": "stream",
     "text": [
      "## Lorem Ipsum\n",
      "\n",
      "## Meaning\n",
      "\n",
      "Lorem Ipsum is essentially the typeset and printing industry's dummy text. Since an unidentified printer jumbled a galley of type to create a type specimen book in the 1500s, Lorem Ipsum has been the industry standard sham text.\n",
      "\n",
      "It is virtually intact, having withstood not just five centuries but also the transition to electronic typesetting.\n",
      "\n",
      "The introduction of Letraset sheets with sections from Lorem Ipsum in the 1960s and, more recently, the inclusion of Lorem Ipsum versions in desktop publishing programs like Aldus PageMaker contributed to its popularization.\n"
     ]
    }
   ],
   "source": [
    "if __name__ == \"__main__\":\n",
    "    # Use the placeholder INPUT_PATH unless a CLI argument is provided\n",
    "    file_path = INPUT_PATH\n",
    "\n",
    "    result = extract_with_marker(\n",
    "        file_path,\n",
    "        output_format=OUTPUT_FORMAT,\n",
    "        use_llm=USE_LLM\n",
    "    )\n",
    "    print(result)"
   ]
  }
 ],
 "metadata": {
  "kernelspec": {
   "display_name": "venv",
   "language": "python",
   "name": "python3"
  },
  "language_info": {
   "codemirror_mode": {
    "name": "ipython",
    "version": 3
   },
   "file_extension": ".py",
   "mimetype": "text/x-python",
   "name": "python",
   "nbconvert_exporter": "python",
   "pygments_lexer": "ipython3",
   "version": "3.11.2"
  }
 },
 "nbformat": 4,
 "nbformat_minor": 5
}
