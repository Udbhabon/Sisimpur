{
  "nbformat": 4,
  "nbformat_minor": 0,
  "metadata": {
    "colab": {
      "provenance": []
    },
    "kernelspec": {
      "name": "python3",
      "display_name": "Python 3"
    },
    "language_info": {
      "name": "python"
    }
  },
  "cells": [
    {
      "cell_type": "code",
      "source": [
        "pip install pytesseract"
      ],
      "metadata": {
        "id": "jeUoqQtywyoh"
      },
      "execution_count": null,
      "outputs": []
    },
    {
      "cell_type": "code",
      "source": [
        "!sudo apt install tesseract-ocr-ben"
      ],
      "metadata": {
        "id": "TJpfaHlW12HM"
      },
      "execution_count": null,
      "outputs": []
    },
    {
      "cell_type": "code",
      "source": [
        "pip install pytesseract google-generativeai opencv-python-headless"
      ],
      "metadata": {
        "id": "ARIH36bd16hz"
      },
      "execution_count": null,
      "outputs": []
    },
    {
      "cell_type": "code",
      "execution_count": 61,
      "metadata": {
        "id": "sh4NuhMXwoQB"
      },
      "outputs": [],
      "source": [
        "import os\n",
        "import io\n",
        "import json\n",
        "import logging\n",
        "from typing import List, Dict\n",
        "import cv2\n",
        "import numpy as np\n",
        "from PIL import Image\n",
        "import google.generativeai as genai\n",
        "import pytesseract"
      ]
    },
    {
      "cell_type": "code",
      "source": [
        "API_KEY = os.getenv(\"GOOGLE_API_KEY\", \"<your api key>\")\n",
        "if not API_KEY or API_KEY.startswith(\"<API-KEY>\"):\n",
        "    raise RuntimeError(\"Please set your GOOGLE_API_KEY environment variable.\")\n",
        "os.environ[\"GOOGLE_API_KEY\"] = API_KEY\n",
        "\n",
        "genai.configure(api_key=API_KEY)\n",
        "logging.basicConfig(level=logging.INFO, format=\"%(asctime)s [%(levelname)s] %(message)s\")"
      ],
      "metadata": {
        "id": "JtPfIN66woyI"
      },
      "execution_count": 62,
      "outputs": []
    },
    {
      "cell_type": "code",
      "source": [
        "def validate_image_path(img_path: str) -> None:\n",
        "    if not os.path.exists(img_path):\n",
        "        raise FileNotFoundError(f\"Image file not found: {img_path}\")\n",
        "    try:\n",
        "        Image.open(img_path).verify()\n",
        "    except Exception as e:\n",
        "        raise ValueError(f\"Invalid image file: {e}\")\n",
        "\n",
        "def safe_resize(img: np.ndarray, scale: float = 1.5) -> np.ndarray:\n",
        "    if img is None or img.size == 0:\n",
        "        raise ValueError(\"Invalid image input for resizing\")\n",
        "\n",
        "    height, width = img.shape[:2]\n",
        "    new_size = (int(width * scale), int(height * scale))\n",
        "    return cv2.resize(img, new_size, interpolation=cv2.INTER_CUBIC)"
      ],
      "metadata": {
        "id": "CAIhPD1N5wDo"
      },
      "execution_count": 63,
      "outputs": []
    },
    {
      "cell_type": "code",
      "source": [
        "def preprocess_image(img_path: str) -> Image.Image:\n",
        "    try:\n",
        "        img = cv2.imread(img_path)\n",
        "        if img is None:\n",
        "            raise ValueError(\"Failed to read image with OpenCV\")\n",
        "        img = safe_resize(img, 1.5)\n",
        "\n",
        "        lab = cv2.cvtColor(img, cv2.COLOR_BGR2LAB)\n",
        "        l, a, b = cv2.split(lab)\n",
        "        clahe = cv2.createCLAHE(clipLimit=3.0, tileGridSize=(8,8))\n",
        "        l_clahe = clahe.apply(l)\n",
        "        enhanced = cv2.merge([l_clahe, a, b])\n",
        "        enhanced = cv2.cvtColor(enhanced, cv2.COLOR_LAB2BGR)\n",
        "\n",
        "        gray = cv2.cvtColor(enhanced, cv2.COLOR_BGR2GRAY)\n",
        "        thresh = cv2.adaptiveThreshold(gray, 255,\n",
        "            cv2.ADAPTIVE_THRESH_GAUSSIAN_C,\n",
        "            cv2.THRESH_BINARY, 11, 2)\n",
        "\n",
        "        return Image.fromarray(thresh)\n",
        "\n",
        "    except Exception as e:\n",
        "        logging.error(f\"Preprocessing failed: {e}\")\n",
        "        return Image.open(img_path)"
      ],
      "metadata": {
        "id": "21wIDymCw59T"
      },
      "execution_count": 64,
      "outputs": []
    },
    {
      "cell_type": "code",
      "source": [
        "def extract_qa_from_image(img_path: str, out_json: str = \"qa_output.json\"):\n",
        "    try:\n",
        "        img = Image.open(img_path)\n",
        "    except IOError as e:\n",
        "        raise ValueError(f\"Invalid image file: {e}\")\n",
        "    model = genai.GenerativeModel('models/gemini-2.0-flash')\n",
        "    prompt = (\n",
        "        \"Extract Bengali text from this exam sheet with exact formatting. Follow:\\n\"\n",
        "        \"1. Identify question numbers (Bengali digits)\\n\"\n",
        "        \"2. Preserve original Bengali text for questions\\n\"\n",
        "        \"3. Options labeled with ক, খ, গ, ঘ\\n\"\n",
        "        \"Return STRICT JSON format:\\n\"\n",
        "        \"{\\\"questions\\\": [{\\\"question\\\": \\\"...\\\", \\\"options\\\": [\\\"ক. ...\\\", ...]}]}\\n\"\n",
        "        \"No English translations. Maintain original Bengali punctuation.\"\n",
        "    )\n",
        "\n",
        "    try:\n",
        "        response = model.generate_content([prompt, img])\n",
        "        cleaned_response = response.text.replace(\"```json\", \"\").replace(\"```\", \"\").strip()\n",
        "        data = json.loads(cleaned_response)\n",
        "\n",
        "        if \"questions\" not in data or not isinstance(data[\"questions\"], list):\n",
        "            raise ValueError(\"Invalid response structure\")\n",
        "\n",
        "    except Exception as e:\n",
        "        raise RuntimeError(f\"Extraction failed: {e}\")\n",
        "\n",
        "    with open(out_json, 'w', encoding='utf-8') as f:\n",
        "        json.dump(data, f, ensure_ascii=False, indent=2)\n",
        "    return data"
      ],
      "metadata": {
        "id": "SLcRfsMXxItv"
      },
      "execution_count": 65,
      "outputs": []
    },
    {
      "cell_type": "code",
      "source": [
        "if __name__ == \"__main__\":\n",
        "    image_path = \"/content/1.jpg\"\n",
        "    output_file = \"qa_output.json\"\n",
        "    result = extract_qa_from_image(image_path, output_file)\n",
        "    print(f\"Successfully extracted {len(result['questions'])} questions\")"
      ],
      "metadata": {
        "colab": {
          "base_uri": "https://localhost:8080/",
          "height": 34
        },
        "id": "l9KyQMg_xP2J",
        "outputId": "1c99436f-8eeb-471d-cfa4-9eb82fdf05b4"
      },
      "execution_count": 66,
      "outputs": [
        {
          "output_type": "stream",
          "name": "stdout",
          "text": [
            "Successfully extracted 25 questions\n"
          ]
        }
      ]
    },
    {
      "cell_type": "code",
      "source": [],
      "metadata": {
        "id": "Xd99GADJ9-R1"
      },
      "execution_count": null,
      "outputs": []
    }
  ]
}