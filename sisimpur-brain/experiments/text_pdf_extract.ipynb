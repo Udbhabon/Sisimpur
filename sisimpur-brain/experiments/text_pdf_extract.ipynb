{
 "cells": [
  {
   "cell_type": "code",
   "execution_count": 2,
   "id": "01bfc7ca",
   "metadata": {},
   "outputs": [],
   "source": [
    "import re\n",
    "from pdfminer.high_level import extract_text"
   ]
  },
  {
   "cell_type": "code",
   "execution_count": 6,
   "id": "b34bbedf",
   "metadata": {},
   "outputs": [
    {
     "name": "stdout",
     "output_type": "stream",
     "text": [
      "Extracted text preview: 1 MB PDF\n",
      "\n",
      "A 1 MB pdf file. A sample pdf file with sample texts.1 MB PDF Example (Dummy) File for Download\n",
      "\n",
      "If you're looking for a reliable and easy-to-use *sample PDF* file, you're in the right place! This 1 MB\n",
      "\n",
      "PDF example is perfect for a variety of purposes, including testing, development, and general\n",
      "\n",
      "document needs.\n",
      "\n",
      "File Details:\n",
      "\n",
      "File Content: Dummy Text (Sample PDF)\n",
      "\n",
      "File Type: PDF\n",
      "\n",
      "Size: 1 MB\n",
      "\n",
      "Objective: This file is ideal for blank document needs, obtaining a new PDF file, testing fil\n"
     ]
    }
   ],
   "source": [
    "text = extract_text('data/1mb.pdf')\n",
    "print(\"Extracted text preview:\", text[:500])"
   ]
  },
  {
   "cell_type": "code",
   "execution_count": 10,
   "id": "358ddca9",
   "metadata": {},
   "outputs": [
    {
     "name": "stdout",
     "output_type": "stream",
     "text": [
      "Cleaned text preview: 1 MB PDF A 1 MB pdf file. A sample pdf file with sample texts.1 MB PDF Example (Dummy) File for Download If you're looking for a reliable and easy-to-use *sample PDF* file, you're in the right place! This 1 MB PDF example is perfect for a variety of purposes, including testing, development, and general document needs. File Details: File Content: Dummy Text (Sample PDF) File Type: PDF Size: 1 MB Objective: This file is ideal for blank document needs, obtaining a new PDF file, testing file uploads on your website or project, and conducting general development experiments. Looking to enhance your development experience or need a sample PDF for testing purposes? Our 1 MB sample PDF file offers an easy solution for various uses, such as: Testing file upload functionality on your website or platform Creating test documents or templates for projects Experimenting with PDF rendering and formatting in your applications Providing a sample PDF for educational or business use Get Started Now: Whether you're a developer, designer, or content creator, having access to a reliable *sample PDF* can save time and effort in your workflow. Download your free 1 MB sample PDF file today and start using it in your testing and development projects. Simply click the download button to get started with your sample PDF download! Information About PDF Format PDF stands for Portable Document Format and was developed by Adobe Systems. It combines rich content such as text, images and hyperlinks, allowing users to share documents across different operating systems and devices with the same view. Its wide use has made it indispensable for electronic document sharing. Thanks to its open-source readers and software, viewing and editing documents in PDF format is easy and accessible.1 MB PDF A 1 MB pdf file. A sample pdf file with sample texts.1 MB PDF Example (Dummy) File for Download If you're looking for a reliable and easy-to-use *sample PDF* file, you're in the right place! This 1 MB PDF example is perfect for a variety of purposes, including testing, development, and general document needs. File Details: File Content: Dummy Text (Sample PDF) File Type: PDF Size: 1 MB Objective: This file is ideal for blank document needs, obtaining a new PDF file, testing file uploads on your website or project, and conducting general development experiments. Looking to enhance your development experience or need a sample PDF for testing purposes? Our 1 MB sample PDF file offers an easy solution for various uses, such as: Testing file upload functionality on your website or platform Creating test documents or templates for projects Experimenting with PDF rendering and formatting in your applications Providing a sample PDF for educational or business use Get Started Now: Whether you're a developer, designer, or content creator, having access to a reliable *sample PDF* can save time and effort in your workflow. Download your free 1 MB sample PDF file today and start using it in your testing and development projects. Simply click the download button to get started with your sample PDF download! Information About PDF Format PDF stands for Portable Document Format and was developed by Adobe Systems. It combines rich content such as text, images and hyperlinks, allowing users to share documents across different operating systems and devices with the same view. Its wide use has made it indispensable for electronic document sharing. Thanks to its open-source readers and software, viewing and editing documents in PDF format is easy and accessible.1 MB PDF A 1 MB pdf file. A sample pdf file with sample texts.1 MB PDF Example (Dummy) File for Download If you're looking for a reliable and easy-to-use *sample PDF* file, you're in the right place! This 1 MB PDF example is perfect for a variety of purposes, including testing, development, and general document needs. File Details: File Content: Dummy Text (Sample PDF) File Type: PDF Size: 1 MB Objective: This file is ideal for blank document needs, obtaining a new PDF file, testing file uploads on your website or project, and conducting general development experiments. Looking to enhance your development experience or need a sample PDF for testing purposes? Our 1 MB sample PDF file offers an easy solution for various uses, such as: Testing file upload functionality on your website or platform Creating test documents or templates for projects Experimenting with PDF rendering and formatting in your applications Providing a sample PDF for educational or business use Get Started Now: Whether you're a developer, designer, or content creator, having access to a reliable *sample PDF* can save time and effort in your workflow. Download your free 1 MB sample PDF file today and start using it in your testing and development projects. Simply click the download button to get started with your sample PDF download! Information About PDF Format PDF stands for Portable Document Format and was developed by Adobe Systems. It combines r\n"
     ]
    }
   ],
   "source": [
    "text = re.sub(r'(?<!\\.)\\n(?!\\n)', ' ', text)\n",
    "text = re.sub(r'\\s+', ' ', text)\n",
    "print(\"Cleaned text preview:\", text[:5000])"
   ]
  }
 ],
 "metadata": {
  "kernelspec": {
   "display_name": "venv",
   "language": "python",
   "name": "python3"
  },
  "language_info": {
   "codemirror_mode": {
    "name": "ipython",
    "version": 3
   },
   "file_extension": ".py",
   "mimetype": "text/x-python",
   "name": "python",
   "nbconvert_exporter": "python",
   "pygments_lexer": "ipython3",
   "version": "3.11.2"
  }
 },
 "nbformat": 4,
 "nbformat_minor": 5
}
